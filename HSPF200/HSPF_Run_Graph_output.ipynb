{
 "cells": [
  {
   "cell_type": "markdown",
   "metadata": {},
   "source": [
    "# Example Script for plotting Data from the HSPF Model.\n",
    "\n",
    "This script has been tested with Python3.8"
   ]
  },
  {
   "cell_type": "code",
   "execution_count": null,
   "metadata": {},
   "outputs": [],
   "source": [
    "#Import libraries\n",
    "import pandas as pd\n",
    "import numpy as np\n",
    "import sys\n",
    "import os\n",
    "import probscale #Needed for frequency duration curve\n",
    "from wdmtoolbox import wdmtoolbox as wdm\n",
    "#from hspfbintoolbox import hspfbintoolbox as hbn #needed for reding data from the binary files.\n",
    "import matplotlib.pyplot as plt\n",
    "import matplotlib.dates as mdates\n",
    "import subprocess\n",
    "from scipy import stats\n",
    "#from pandas.stats.api import ols\n",
    "import statsmodels.api as sm\n",
    "from statsmodels.graphics.regressionplots import abline_plot\n",
    "\n",
    "#Following code sets the common font size for all the plots\n",
    "SMALL_SIZE = 9\n",
    "MEDIUM_SIZE = 11\n",
    "BIGGER_SIZE = 13\n",
    "\n",
    "plt.rc('font', size=SMALL_SIZE)          # controls default text sizes\n",
    "plt.rc('axes', titlesize=SMALL_SIZE)     # fontsize of the axes title\n",
    "plt.rc('axes', labelsize=MEDIUM_SIZE)    # fontsize of the x and y labels\n",
    "plt.rc('xtick', labelsize=SMALL_SIZE)    # fontsize of the tick labels\n",
    "plt.rc('ytick', labelsize=SMALL_SIZE)    # fontsize of the tick labels\n",
    "plt.rc('legend', fontsize=SMALL_SIZE)    # legend fontsize\n",
    "plt.rc('figure', titlesize=BIGGER_SIZE)  # fontsize of the figure title\n",
    "\n",
    "months = mdates.MonthLocator(interval=1)\n",
    "yearticks = mdates.YearLocator(1)\n",
    "\n",
    "#Common constants\n",
    "ft2_to_acre = 43560\n",
    "in_to_ft = 12\n",
    "secondsInDay = 24*60*60"
   ]
  },
  {
   "cell_type": "markdown",
   "metadata": {},
   "source": [
    "## Command line function call\n",
    "\n",
    "This function is used to run the HSPF model though python."
   ]
  },
  {
   "cell_type": "code",
   "execution_count": null,
   "metadata": {},
   "outputs": [],
   "source": [
    "def run_command(command):\n",
    "    '''Run the command and display the output from command line'''\n",
    "    process = subprocess.Popen(command, stdout=subprocess.PIPE)\n",
    "    while True:\n",
    "        output = process.stdout.readline()\n",
    "        output = output.decode('utf-8')\n",
    "        if output == '' and process.poll() is not None:\n",
    "            break\n",
    "        if output:\n",
    "            print(output.strip())\n",
    "    rc = process.poll()\n",
    "    return rc\n"
   ]
  },
  {
   "cell_type": "markdown",
   "metadata": {},
   "source": [
    "### This function is used to calculate exceedances to make FDC"
   ]
  },
  {
   "cell_type": "code",
   "execution_count": null,
   "metadata": {},
   "outputs": [],
   "source": [
    "def exceed(df):\n",
    "    '''Calculating exceedance values from a time series'''\n",
    "    flow=df.values.tolist()\n",
    "    #Making a list of the values\n",
    "    flow=[x for x in flow if x==x] \n",
    "    #Removing all na values. \n",
    "    flow.sort(reverse=True)\n",
    "    #sorting the values\n",
    "    exceedance = (np.arange(1., len(flow) + 1) / len(flow))*100\n",
    "    #calculating exceedances\n",
    "    return flow, exceedance\n",
    "    "
   ]
  },
  {
   "cell_type": "markdown",
   "metadata": {},
   "source": [
    "## HSPF Model Run"
   ]
  },
  {
   "cell_type": "code",
   "execution_count": null,
   "metadata": {},
   "outputs": [],
   "source": [
    "pHSPFexe=r'C:\\BASINS45\\models\\HSPF\\bin\\WinHspfLt.exe' \n",
    "#Typically, HSPF software is located here. Change as needed\n",
    "pHSPFModelPath = r'H:\\HSPF-Training\\HSPF200'\n",
    "#This is where all the model files are. Change as needed\n",
    "pUCI = os.path.join(pHSPFModelPath,'HSPF_Test240.uci')\n",
    "#Name of the UCI file. Change as needed.\n",
    "pEchoFile = 'HSPF_Test.ech'\n",
    "#Name of the Echo file. Change as needed\n",
    "process = subprocess.Popen([pHSPFexe,'-1', '-1', pUCI],\n",
    "                           stdout=subprocess.PIPE,\n",
    "                           universal_newlines=True)\n",
    "#Run the HSPF model \n",
    "print('Running HSPF model. Please wait...')\n",
    "process.wait()\n",
    "\n",
    "try:\n",
    "#Read echo file to check the model run\n",
    "    echoFileContent=open(os.path.join(pHSPFModelPath,pEchoFile),'r')\n",
    "    echoFileLines=echoFileContent.readlines()\n",
    "    echoFileContent.close()\n",
    "    if 'End of Job' in echoFileLines[len(echoFileLines)-1]:\n",
    "        print('HSPF model ran successfully!')\n",
    "    else:\n",
    "        print('HSPF model did not run successfully')\n",
    "        sys.exit()    \n",
    "except:\n",
    "    print('Could not open echo file. Check if any of the files are locked.')\n",
    "    sys.exit()"
   ]
  },
  {
   "cell_type": "markdown",
   "metadata": {},
   "source": [
    "## Creating Hydrology Graphs"
   ]
  },
  {
   "cell_type": "markdown",
   "metadata": {},
   "source": [
    "### Creating hydrograph"
   ]
  },
  {
   "cell_type": "code",
   "execution_count": null,
   "metadata": {},
   "outputs": [],
   "source": [
    "wdmfile = os.path.join(pHSPFModelPath,'HSPF_Test.wdm')\n",
    "#Name of the WDM file that has input and output data\n",
    "fig,ax = plt.subplots(2, figsize=(10,6), sharex=True,gridspec_kw={'height_ratios': [1, 2]})\n",
    "#Defining the plot size. 10,6 is good for powerpoint, 6, 4.25 is good for the word document\n",
    "dfsim = wdm.extract(wdmfile,9001)\n",
    "#Extracting simulated flow data\n",
    "dfsupy = wdm.extract(wdmfile,1)\n",
    "#Extracting the precipitation data\n",
    "ax[0].plot(dfsupy, color='red', linewidth=0.6)\n",
    "#plotting precipitation on the top axis\n",
    "ax[0].set_ylabel('Precipitation (in)')\n",
    "ax[0].grid(which='both')\n",
    "ax[0].set_title('HSPF Test')\n",
    "\n",
    "ax[1].plot(dfsim, color='red', linewidth=0.6)\n",
    "#Plotting simulated flow data on the bottom axis\n",
    "ax[1].set_xlim((pd.Timestamp('2018-01-01'),pd.Timestamp('2018-01-31')))\n",
    "#Setting the x-axis scale\n",
    "\n",
    "ax[1].grid(which='both')\n",
    "ax[1].set_ylabel('Flow (cfs)')\n",
    "ax[1].legend(['Simulated'])\n",
    "ax[1].set_xlabel('Year')"
   ]
  },
  {
   "cell_type": "markdown",
   "metadata": {},
   "source": [
    "### Creating frequency duration curve"
   ]
  },
  {
   "cell_type": "code",
   "execution_count": null,
   "metadata": {},
   "outputs": [],
   "source": [
    "fig, ax = plt.subplots(1,figsize=(10,6))\n",
    "#Declaring plot size\n",
    "dfsim = dfsim.resample('D').mean()\n",
    "#Resampling the data to create a daily timeseries\n",
    "flow, exceedance = exceed(dfsim)\n",
    "#Using exceed function to calulate flow and exceedance\n",
    "ax.plot(exceedance, flow, color='red', linewidth=0.6)\n",
    "#plotting the graph\n",
    "ax.set_yscale('log')\n",
    "ax.set_xscale('prob')\n",
    "ax.set_xlim([0.1, 99.9])\n",
    "ax.set_ylim([0.1,10])\n",
    "ax.set_ylabel('Average Daily Flow (cfs)')\n",
    "ax.set_xlabel('Exceedance (%)')\n",
    "ax.legend(['Simulated'])\n",
    "ax.set_title('HSPF_Test')\n",
    "ax.grid(which='both')"
   ]
  }
 ],
 "metadata": {
  "kernelspec": {
   "display_name": "python38",
   "language": "python",
   "name": "python3"
  },
  "language_info": {
   "codemirror_mode": {
    "name": "ipython",
    "version": 3
   },
   "file_extension": ".py",
   "mimetype": "text/x-python",
   "name": "python",
   "nbconvert_exporter": "python",
   "pygments_lexer": "ipython3",
   "version": "3.8.16"
  },
  "orig_nbformat": 4
 },
 "nbformat": 4,
 "nbformat_minor": 2
}
